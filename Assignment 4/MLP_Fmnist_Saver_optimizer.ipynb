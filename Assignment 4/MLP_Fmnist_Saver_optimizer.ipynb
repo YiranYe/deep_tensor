{
 "cells": [
  {
   "cell_type": "code",
   "execution_count": 59,
   "metadata": {
    "id": "_iYcla4kCX67"
   },
   "outputs": [],
   "source": [
    "import os\n",
    "import numpy as np\n",
    "import time\n",
    "import tensorflow as tf\n",
    "from tensorflow import keras\n",
    "\n",
    "import matplotlib.pyplot as plt\n",
    "\n",
    "\n",
    "np.random.seed(1234)\n",
    "tf.random.set_seed(1234)"
   ]
  },
  {
   "cell_type": "code",
   "execution_count": 60,
   "metadata": {
    "colab": {
     "base_uri": "https://localhost:8080/"
    },
    "id": "Kgna3kY6CX67",
    "outputId": "db4d9f30-024f-4fcc-c284-a06acb6ad281"
   },
   "outputs": [
    {
     "data": {
      "text/plain": [
       "[PhysicalDevice(name='/physical_device:GPU:0', device_type='GPU')]"
      ]
     },
     "execution_count": 60,
     "metadata": {},
     "output_type": "execute_result"
    }
   ],
   "source": [
    "tf.config.list_physical_devices('GPU')"
   ]
  },
  {
   "cell_type": "code",
   "execution_count": 61,
   "metadata": {
    "colab": {
     "base_uri": "https://localhost:8080/",
     "height": 383
    },
    "id": "JodgHy9nCX68",
    "outputId": "3d423aa6-4349-46d8-d995-7013c9e84450"
   },
   "outputs": [
    {
     "data": {
      "image/png": "[encoded data removed]",
      "text/plain": [
       "<Figure size 432x288 with 3 Axes>"
      ]
     },
     "metadata": {
      "needs_background": "light"
     },
     "output_type": "display_data"
    }
   ],
   "source": [
    "(X_train, y_train), (X_test, y_test) = keras.datasets.fashion_mnist.load_data() # Load MNIST or FMNIST\n",
    "assert X_train.shape == (60000, 28, 28)\n",
    "assert X_test.shape == (10000, 28, 28)\n",
    "assert y_train.shape == (60000,)\n",
    "assert y_test.shape == (10000,)\n",
    "\n",
    "\n",
    "# Display randomly selected data\n",
    "indices = list(np.random.randint(X_train.shape[0],size=3))\n",
    "for i in range(3):\n",
    "    plt.subplot(1,3,i+1)\n",
    "    plt.imshow(X_train[indices[i]].reshape(28,28), cmap='gray', interpolation='none')\n",
    "    plt.title(\"Index {} Class {}\".format(indices[i], y_train[indices[i]]))\n",
    "    plt.tight_layout()"
   ]
  },
  {
   "cell_type": "markdown",
   "metadata": {
    "id": "PowjAHuw-wm7"
   },
   "source": [
    "# Important\n",
    "* Always have a validation set, the procedure to create validation or dev set is by performing random sample without replacement on train set and then only using that fraction as dev set. \n",
    "* Simple approach is to set some K samples, you can extract them from start, mid or end.\n",
    "* Imagine validation set that partially approximates test set distribution and we assume our model would produce identical results when we test it on test set.\n",
    "* Always optimize your hyperparameters by looking at performance on validation set and not test set.\n",
    "* Do not touch test set, we have this to test how our model would work on unseen data."
   ]
  },
  {
   "cell_type": "code",
   "execution_count": 62,
   "metadata": {
    "colab": {
     "base_uri": "https://localhost:8080/"
    },
    "id": "oIRI-uLoCX69",
    "outputId": "e664546e-92d4-435a-ae37-7f6836d5e783"
   },
   "outputs": [
    {
     "name": "stdout",
     "output_type": "stream",
     "text": [
      "size of training set is 50000 samples\n",
      "every train example is 28 by 28\n",
      "size of validation set is 10000 samples\n",
      "every validation example is 28 by 28\n",
      "size of training set is 50000 samples\n",
      "every train example has 784 features\n",
      "size of validation set is 10000 samples\n",
      "every validation example has 784 features\n"
     ]
    }
   ],
   "source": [
    "# Split train dataset into train and validation\n",
    "X_val = X_train[50000:60000]\n",
    "X_train = X_train[0:50000]\n",
    "y_val = y_train[50000:60000]\n",
    "y_train = y_train[0:50000]\n",
    "\n",
    "print(\"size of training set is\", str(X_train.shape[0]), \"samples\")\n",
    "print(\"every train example is\", str(X_train.shape[1]), \"by\", str(X_train.shape[2]))\n",
    "\n",
    "print(\"size of validation set is\", str(X_val.shape[0]), \"samples\")\n",
    "print(\"every validation example is\", str(X_val.shape[1]), \"by\", str(X_val.shape[2]))\n",
    "\n",
    "X_train = X_train.reshape(50000, 28*28)\n",
    "X_val = X_val.reshape(10000, 28*28)\n",
    "X_test = X_test.reshape(10000, 28*28)\n",
    "\n",
    "print(\"size of training set is\", str(X_train.shape[0]), \"samples\")\n",
    "print(\"every train example has\", str(X_train.shape[1]), \"features\")\n",
    "\n",
    "print(\"size of validation set is\", str(X_val.shape[0]), \"samples\")\n",
    "print(\"every validation example has\", str(X_val.shape[1]), \"features\")\n",
    "\n",
    "# Split dataset into batches\n",
    "#train_ds = tf.data.Dataset.from_tensor_slices((X_train, y_train)).batch(16)\n",
    "#test_ds = tf.data.Dataset.from_tensor_slices((X_test, y_test)).batch(4)"
   ]
  },
  {
   "cell_type": "markdown",
   "metadata": {
    "id": "VdMEIaFKAscU"
   },
   "source": [
    "# Points to remember\n",
    "* If using any type of neural network, normalize your input between 0-1.\n",
    "* One can use various procedures to achieve this, divide by largest value (for images we use 255), subtract mean from data and then normalize, one can even augment them and use other steps for normalization.\n",
    "* Normalization is important step, one could observe significant boost in performance just by having better normalization scheme.\n",
    "* For targets we always use one-hot encodings."
   ]
  },
  {
   "cell_type": "code",
   "execution_count": 63,
   "metadata": {
    "colab": {
     "base_uri": "https://localhost:8080/"
    },
    "id": "mDyZ8bZjCX69",
    "outputId": "4f18de99-636d-4c05-b085-85e37206b037"
   },
   "outputs": [
    {
     "data": {
      "text/plain": [
       "1.0"
      ]
     },
     "execution_count": 63,
     "metadata": {},
     "output_type": "execute_result"
    }
   ],
   "source": [
    "#Normalize Data\n",
    "\n",
    "X_train = X_train/255\n",
    "X_val = X_val/255\n",
    "X_test = X_test/255\n",
    "# X_train[0]\n",
    "np.max(X_train)"
   ]
  },
  {
   "cell_type": "code",
   "execution_count": 64,
   "metadata": {
    "colab": {
     "base_uri": "https://localhost:8080/"
    },
    "id": "3lIIy313CX69",
    "outputId": "527be8e1-561e-40c7-86ce-069f1955d162"
   },
   "outputs": [
    {
     "name": "stdout",
     "output_type": "stream",
     "text": [
      "tf.Tensor([10000    10], shape=(2,), dtype=int32)\n"
     ]
    }
   ],
   "source": [
    "size_input = X_train.shape[1]\n",
    "size_hidden1 = 128\n",
    "size_hidden2 = 128\n",
    "size_hidden3 = 128\n",
    "size_output = 10\n",
    "\n",
    "number_of_train_examples = X_train.shape[0]\n",
    "number_of_test_examples = X_test.shape[0]\n",
    "\n",
    "y_train = tf.keras.utils.to_categorical(y_train, num_classes=10) # Other function is tf.one_hot(y_train,depth=10)\n",
    "y_val = tf.keras.utils.to_categorical(y_val, num_classes=10)\n",
    "y_test = tf.keras.utils.to_categorical(y_test, num_classes=10)\n",
    "print(tf.shape(y_val))"
   ]
  },
  {
   "cell_type": "markdown",
   "metadata": {
    "id": "U7KCVarVCVPW"
   },
   "source": [
    "# Importance of weight initialization\n",
    "\n",
    "* One reason backprop based models can perform bettter lies with the weight initialization method, one important point one should remember is that, if yur weights are initialized to be too high or low, backprop would struggle.\n",
    "* Hence one should always carefully initialize weights of your model, below i have shown approach with random_normal, one can use random_uniform, truncated version of both, Xavier init and orthogonal. \n",
    "* You will find modern day NNs have achieved stable and better performance by simply switching to better init and majority of cases Xavier or Orthogonal works best.\n",
    "* Always initialize your bias using zero or some small constant (ideally 0.01 or less works better). We use bias to shift the activation and in some cases it can stabalize learning, but having large bias can cause negative results.\n",
    "\n",
    "# Loss function\n",
    "\n",
    "* We will always cross-entropy loss for classification.\n",
    "\n",
    "* tf softmax,\n",
    "loss= tf.reduce_mean(tf.nn.softmax_cross_entropy_with_logits(logits=y_pred_tf, labels=y_true_tf)), this function is simply saying that it will calculate softmax for you, simply provide logits to it. \n",
    "\n",
    "* In other output of your forward pass directly goes this function. Now this operator will calculate or apply softmax over prediction or logits and calculate cross-entropy between prediction and target. I am using reduce_mean since we apply this over batches.\n",
    "* Second is using keras\n",
    "Method 1 :- This function requires logits, hence same as above you will pass logits or output variable to this function. Now remember you need from_logits = True, for this to work.\n",
    "cce = tf.keras.losses.CategoricalCrossentropy(from_logits=True)\n",
    "loss_x = cce(y_true_tf, y_pred_tf) \n",
    "\n",
    "* Method 2:- In this we will apply softmax to output function and then pass to CCE loss.\n",
    "So the approach is \n",
    "output = tf.nn.softmax(output)\n",
    "cce = tf.keras.losses.CategoricalCrossentropy(from_logits=False)\n",
    "loss_x = cce(y_true_tf, y_pred_tf) "
   ]
  },
  {
   "cell_type": "code",
   "execution_count": 65,
   "metadata": {
    "id": "obN7WPLpCX69"
   },
   "outputs": [],
   "source": [
    "# Define class to build mlp model\n",
    "class MLP(object):\n",
    "    def __init__(self, size_input, size_hidden1, size_hidden2, size_hidden3, size_output, device=None):\n",
    "        \"\"\"\n",
    "        size_input: int, size of input layer\n",
    "        size_hidden1: int, size of the 1st hidden layer\n",
    "        size_hidden2: int, size of the 2nd hidden layer\n",
    "        size_output: int, size of output layer\n",
    "        device: str or None, either 'cpu' or 'gpu' or None. If None, the device to be used will be decided automatically during Eager Execution\n",
    "        \"\"\"\n",
    "        self.size_input, self.size_hidden1, self.size_hidden2, self.size_hidden3, self.size_output, self.device =\\\n",
    "        size_input, size_hidden1, size_hidden2, size_hidden3, size_output, device\n",
    "        \n",
    "\n",
    "        # Initialize weights between input mapping and a layer g(f(x)) = layer\n",
    "        self.W1 = tf.Variable(tf.random.normal([self.size_input, self.size_hidden1],stddev=0.1)) # Xavier(Fan-in fan-out) and Orthogonal\n",
    "        # Initialize biases for hidden layer\n",
    "        self.b1 = tf.Variable(tf.zeros([1, self.size_hidden1])) # 0 or constant(0.01)\n",
    "        self.gamma1 = tf.Variable(tf.random.normal(self.b1.shape,stddev=0.1))\n",
    "        self.beta1 = tf.Variable(tf.random.normal(self.b1.shape,stddev=0.1))\n",
    "        self.running_mean1 = tf.Variable(tf.zeros_like(self.b1))\n",
    "        self.running_var1 = tf.Variable(tf.zeros_like(self.b1))\n",
    "\n",
    "        # Initialize weights between input layer and 1st hidden layer\n",
    "        self.W2 = tf.Variable(tf.random.normal([self.size_hidden1, self.size_hidden2],stddev=0.1))\n",
    "        # Initialize biases for hidden layer\n",
    "        self.b2 = tf.Variable(tf.zeros([1, self.size_hidden2]))\n",
    "        self.gamma2 = tf.Variable(tf.random.normal(self.b2.shape,stddev=0.1))\n",
    "        self.beta2 = tf.Variable(tf.random.normal(self.b2.shape,stddev=0.1))\n",
    "        self.running_mean2 = tf.Variable(tf.zeros_like(self.b2))\n",
    "        self.running_var2 = tf.Variable(tf.zeros_like(self.b2))\n",
    "\n",
    "        # Initialize weights between 1st hidden layer and 2nd hidden layer\n",
    "        self.W3 = tf.Variable(tf.random.normal([self.size_hidden2, self.size_hidden3],stddev=0.1))\n",
    "        # Initialize biases for hidden layer\n",
    "        self.b3 = tf.Variable(tf.zeros([1, self.size_hidden3]))\n",
    "        self.gamma3 = tf.Variable(tf.random.normal(self.b3.shape,stddev=0.1))\n",
    "        self.beta3 = tf.Variable(tf.random.normal(self.b3.shape,stddev=0.1))\n",
    "        self.running_mean3 = tf.Variable(tf.zeros_like(self.b3))\n",
    "        self.running_var3 = tf.Variable(tf.zeros_like(self.b3))\n",
    "\n",
    "         # Initialize weights between 2nd hidden layer and output layer\n",
    "        self.W4 = tf.Variable(tf.random.normal([self.size_hidden3, self.size_output],stddev=0.1))\n",
    "        # Initialize biases for output layer\n",
    "        self.b4 = tf.Variable(tf.zeros([1, self.size_output]))\n",
    "\n",
    "        # Define variables to be updated during backpropagation\n",
    "        self.variables = [self.W1, self.W2, self.W3, self.W4, self.b1, self.b2, self.b3, self.b4, self.gamma1, self.gamma2, self.gamma3, self.beta1, self.beta2, self.beta3]\n",
    "  \n",
    "    def forward(self, X, is_train=False):\n",
    "        \"\"\"\n",
    "        forward pass\n",
    "        X: Tensor, inputs\n",
    "        \"\"\"\n",
    "        if self.device is not None:\n",
    "            with tf.device('gpu:0' if self.device=='gpu' else 'cpu'):\n",
    "                self.y = self.compute_output(X, is_train)\n",
    "        else:\n",
    "            self.y = self.compute_output(X, is_train)\n",
    "\n",
    "        return self.y\n",
    "\n",
    "    def loss(self, y_pred, y_true):\n",
    "        '''\n",
    "        y_pred - Tensor of shape (batch_size, size_output)\n",
    "        y_true - Tensor of shape (batch_size, size_output)\n",
    "        '''\n",
    "        #y_true_tf = tf.cast(tf.reshape(y_true, (-1, self.size_output)), dtype=tf.float32)\n",
    "        y_true_tf = tf.cast(y_true, dtype=tf.float32)\n",
    "        y_pred_tf = tf.cast(y_pred, dtype=tf.float32)\n",
    "        cce = tf.keras.losses.CategoricalCrossentropy(from_logits=True)\n",
    "        loss_x = cce(y_true_tf, y_pred_tf)\n",
    "        # Use keras or tf_softmax, both should work for any given model\n",
    "        #loss_x = tf.reduce_mean(tf.nn.softmax_cross_entropy_with_logits(logits=y_pred_tf, labels=y_true_tf))\n",
    "\n",
    "        return loss_x\n",
    "\n",
    "    def backward(self, X_train, y_train, opti):\n",
    "        \"\"\"\n",
    "        backward pass\n",
    "        \"\"\"\n",
    "        optimizer = opti\n",
    "\n",
    "        with tf.GradientTape() as tape:\n",
    "\n",
    "            predicted = self.forward(X_train, is_train=True)\n",
    "            current_loss = self.loss(predicted, y_train)\n",
    "\n",
    "        grads = tape.gradient(current_loss, self.variables)\n",
    "        optimizer.apply_gradients(zip(grads, self.variables))\n",
    "           \n",
    "            \n",
    "    def batch_norm(self, z, gamma, beta, running_mean, running_var, is_train, momentum=0.8):\n",
    "        if is_train:\n",
    "#             print(z)\n",
    "            z_mean = tf.math.reduce_mean(z, 0)\n",
    "#             print(z_mean)\n",
    "            z_var = tf.math.reduce_variance(z, 0)\n",
    "            normalized_z = (z - z_mean) / np.sqrt(z_var + pow(10,-5))\n",
    "            out = gamma * normalized_z + beta\n",
    "\n",
    "            running_mean.assign(momentum * running_mean + (1-momentum) * z_mean)\n",
    "            running_var.assign(momentum * running_var + (1-momentum) * z_var)\n",
    "        else:\n",
    "            normalized_z = (z - running_mean) / np.sqrt(running_var + pow(10,-5))\n",
    "            out = gamma * normalized_z + beta\n",
    "\n",
    "        return out\n",
    "        \n",
    "    def compute_output(self, X, is_train=False):\n",
    "        \"\"\"\n",
    "        Custom method to obtain output tensor during forward pass\n",
    "        \"\"\"\n",
    "        # Cast X to float32\n",
    "        X_tf = tf.cast(X, dtype=tf.float32)\n",
    "        #X_tf = X\n",
    "        \n",
    "\n",
    "        # Compute values in hidden layers\n",
    "        z1 = tf.matmul(X_tf, self.W1) + self.b1\n",
    "#         z1 = self.batch_norm(z1, self.gamma1, self.beta1, self.running_mean1, self.running_var1, is_train)\n",
    "        h1 = tf.nn.relu(z1)\n",
    "        h1 = self.batch_norm(h1, self.gamma1, self.beta1, self.running_mean1, self.running_var1, is_train)\n",
    "        \n",
    "\n",
    "        z2 = tf.matmul(h1, self.W2) + self.b2\n",
    "#         z2 = self.batch_norm(z2, self.gamma2, self.beta2, self.running_mean2, self.running_var2, is_train)\n",
    "        h2 = tf.nn.relu(z2)\n",
    "        h2 = self.batch_norm(h2, self.gamma2, self.beta2, self.running_mean2, self.running_var2, is_train)\n",
    "\n",
    "        z3 = tf.matmul(h2, self.W3) + self.b3\n",
    "#         z3 = self.batch_norm(z3, self.gamma3, self.beta3, self.running_mean3, self.running_var3, is_train)\n",
    "        h3 = tf.nn.relu(z3)\n",
    "        h3 = self.batch_norm(h3, self.gamma3, self.beta3, self.running_mean3, self.running_var3, is_train)\n",
    "\n",
    "        # Compute output\n",
    "        output = tf.matmul(h3, self.W4) + self.b4\n",
    "\n",
    "        #Now consider two things , First look at inbuild loss functions if they work with softmax or not and then change this \n",
    "        # Second add tf.Softmax(output) and then return this variable\n",
    "        return (output)\n",
    "\n",
    "\n",
    "#  def stderr(self,y_pred):\n",
    "#     \"\"\"\n",
    "#      Calculate standard error\n",
    "#      \"\"\"\n",
    "#     y_pred_tf = tf.cast(y_pred, dtype=tf.float32)\n",
    "#     std_dev = np.std(y_pred_tf) #Calculates standard deviation\n",
    "#     std_err = std_dev/sqrt(len(y_pred_tf))\n",
    "#     return std_err \n",
    "\n",
    "\n",
    "#  def var(self,y_pred):\n",
    "#     \"\"\"\n",
    "#      Calculate variance \n",
    "#      \"\"\"\n",
    "#     y_pred_tf = tf.cast(y_pred, dtype=tf.float32)\n",
    "#     std_dev = np.std(y_pred_tf) #Calculates standard deviation\n",
    "#     variance = (std_dev**2) # calculate variance\n",
    "#     return variance \n",
    "\n"
   ]
  },
  {
   "cell_type": "code",
   "execution_count": 66,
   "metadata": {},
   "outputs": [
    {
     "name": "stdout",
     "output_type": "stream",
     "text": [
      "\n",
      "Train Accuracy: 0.8152\n",
      "Number of Epoch = 1 - Average Cross Entropy:= 0.00680283935546875 \n",
      "\n",
      "Validation Accuracy: 0.8095\n",
      "\n",
      "Train Accuracy: 0.8393\n",
      "Number of Epoch = 2 - Average Cross Entropy:= 0.003886449279785156 \n",
      "\n",
      "Validation Accuracy: 0.8338\n",
      "\n",
      "Train Accuracy: 0.8520\n",
      "Number of Epoch = 3 - Average Cross Entropy:= 0.0034614645385742187 \n",
      "\n",
      "Validation Accuracy: 0.8419\n",
      "\n",
      "Train Accuracy: 0.8629\n",
      "Number of Epoch = 4 - Average Cross Entropy:= 0.0032011605834960937 \n",
      "\n",
      "Validation Accuracy: 0.8512\n",
      "\n",
      "Train Accuracy: 0.8697\n",
      "Number of Epoch = 5 - Average Cross Entropy:= 0.0029981817626953127 \n",
      "\n",
      "Validation Accuracy: 0.8558\n",
      "\n",
      "Train Accuracy: 0.8742\n",
      "Number of Epoch = 6 - Average Cross Entropy:= 0.0028605770874023436 \n",
      "\n",
      "Validation Accuracy: 0.8571\n",
      "\n",
      "Train Accuracy: 0.8781\n",
      "Number of Epoch = 7 - Average Cross Entropy:= 0.002738536376953125 \n",
      "\n",
      "Validation Accuracy: 0.8608\n",
      "\n",
      "Train Accuracy: 0.8845\n",
      "Number of Epoch = 8 - Average Cross Entropy:= 0.0026449029541015627 \n",
      "\n",
      "Validation Accuracy: 0.8642\n",
      "\n",
      "Train Accuracy: 0.8900\n",
      "Number of Epoch = 9 - Average Cross Entropy:= 0.002542683563232422 \n",
      "\n",
      "Validation Accuracy: 0.8700\n",
      "\n",
      "Train Accuracy: 0.8921\n",
      "Number of Epoch = 10 - Average Cross Entropy:= 0.0024521746826171877 \n",
      "\n",
      "Validation Accuracy: 0.8705\n",
      "\n",
      "Train Accuracy: 0.8954\n",
      "Number of Epoch = 11 - Average Cross Entropy:= 0.0023901889038085936 \n",
      "\n",
      "Validation Accuracy: 0.8694\n",
      "\n",
      "Train Accuracy: 0.8981\n",
      "Number of Epoch = 12 - Average Cross Entropy:= 0.002316732482910156 \n",
      "\n",
      "Validation Accuracy: 0.8714\n",
      "\n",
      "Train Accuracy: 0.9022\n",
      "Number of Epoch = 13 - Average Cross Entropy:= 0.0022524952697753906 \n",
      "\n",
      "Validation Accuracy: 0.8734\n",
      "\n",
      "Train Accuracy: 0.9048\n",
      "Number of Epoch = 14 - Average Cross Entropy:= 0.002183569030761719 \n",
      "\n",
      "Validation Accuracy: 0.8746\n",
      "\n",
      "Train Accuracy: 0.9061\n",
      "Number of Epoch = 15 - Average Cross Entropy:= 0.0021327589416503907 \n",
      "\n",
      "Validation Accuracy: 0.8720\n",
      "\n",
      "Train Accuracy: 0.9058\n",
      "Number of Epoch = 16 - Average Cross Entropy:= 0.002100702667236328 \n",
      "\n",
      "Validation Accuracy: 0.8681\n",
      "\n",
      "Train Accuracy: 0.9088\n",
      "Number of Epoch = 17 - Average Cross Entropy:= 0.0020554495239257812 \n",
      "\n",
      "Validation Accuracy: 0.8737\n",
      "\n",
      "Train Accuracy: 0.9128\n",
      "Number of Epoch = 18 - Average Cross Entropy:= 0.0019920388793945314 \n",
      "\n",
      "Validation Accuracy: 0.8751\n",
      "\n",
      "Train Accuracy: 0.9101\n",
      "Number of Epoch = 19 - Average Cross Entropy:= 0.0019397959899902343 \n",
      "\n",
      "Validation Accuracy: 0.8731\n",
      "\n",
      "Train Accuracy: 0.9114\n",
      "Number of Epoch = 20 - Average Cross Entropy:= 0.0019091349792480468 \n",
      "\n",
      "Validation Accuracy: 0.8669\n",
      "\n",
      "Total time taken (in seconds): 358.83\n"
     ]
    },
    {
     "data": {
      "image/png": "[encoded data removed]",
      "text/plain": [
       "<Figure size 432x288 with 1 Axes>"
      ]
     },
     "metadata": {
      "needs_background": "light"
     },
     "output_type": "display_data"
    }
   ],
   "source": [
    "# Set number of epochs\n",
    "NUM_EPOCHS = 20\n",
    "\n",
    "# Initialize model using CPU\n",
    "mlp_on_cpu = MLP(size_input, size_hidden1, size_hidden2, size_hidden3, size_output, device='gpu')\n",
    "\n",
    "time_start = time.time()\n",
    "opti = tf.keras.optimizers.SGD(learning_rate = 0.1)\n",
    "for epoch in range(NUM_EPOCHS):\n",
    "    \n",
    "    loss_total = tf.zeros([1,1], dtype=tf.float32)\n",
    "    lt = 0\n",
    "\n",
    "    train_ds = tf.data.Dataset.from_tensor_slices((X_train, y_train)).shuffle(25, seed=epoch*(1234)).batch(128)\n",
    "    kz = 0\n",
    "    accuracy_z = 0.0\n",
    "    cur_train_acc = 0.0\n",
    "    for inputs, outputs in train_ds:\n",
    "        qw, tr = tf.shape(inputs)\n",
    "        kz = kz + 1\n",
    "        preds = mlp_on_cpu.forward(inputs, is_train=True) \n",
    "        loss_total = loss_total + mlp_on_cpu.loss(preds, outputs)\n",
    "        lt = lt + mlp_on_cpu.loss(preds, outputs)\n",
    "        mlp_on_cpu.backward(inputs, outputs, opti)\n",
    "\n",
    "    preds = mlp_on_cpu.forward(X_train, is_train=True)\n",
    "    # Get probs, remember we only have logits from our forward function, we need to apply softmax on top of it to get probs\n",
    "    preds = tf.nn.softmax(preds)\n",
    "    correct_prediction = tf.equal(tf.argmax(preds, 1), tf.argmax(y_train, 1))\n",
    "    accuracy_z = accuracy_z + tf.reduce_mean(tf.cast(correct_prediction, \"float\"))\n",
    "    cur_train_acc += accuracy_z.numpy()\n",
    "    ds = cur_train_acc\n",
    "    print('\\nTrain Accuracy: {:.4f}'.format(ds))\n",
    "    print('Number of Epoch = {} - Average Cross Entropy:= {} '.format(epoch + 1, np.sum(loss_total) / X_train.shape[0]))\n",
    "    preds_val = mlp_on_cpu.forward(X_val)\n",
    "    preds_val = tf.nn.softmax(preds_val)\n",
    "    correct_prediction = tf.equal(tf.argmax(preds_val, 1), tf.argmax(y_val, 1))\n",
    "\n",
    "    # Calculate accuracy\n",
    "    accuracy = tf.reduce_mean(tf.cast(correct_prediction, \"float\"))\n",
    "    cur_val_acc = accuracy.numpy()\n",
    "\n",
    "    print('\\nValidation Accuracy: {:.4f}'.format(cur_val_acc))\n",
    "\n",
    "    plt.plot(epoch + 1, np.sum(loss_total) / X_train.shape[0], 'go')\n",
    "\n",
    "        \n",
    "time_taken = time.time() - time_start\n",
    "    \n",
    "# Validate model\n",
    "    \n",
    "\n",
    "\n",
    "print('\\nTotal time taken (in seconds): {:.2f}'.format(time_taken))\n",
    "#For per epoch_time = Total_Time / Number_of_epochs\n"
   ]
  },
  {
   "cell_type": "code",
   "execution_count": 67,
   "metadata": {},
   "outputs": [
    {
     "name": "stdout",
     "output_type": "stream",
     "text": [
      "Test Accuracy: 0.8644999861717224\n"
     ]
    }
   ],
   "source": [
    "# Initialize\n",
    "test_loss_total = tf.Variable(0, dtype=tf.float32)\n",
    "correct_prediction = tf.Variable(0, dtype=tf.float32)\n",
    "\n",
    "\n",
    "preds_test = mlp_on_cpu.forward(X_test)\n",
    "preds_test = tf.nn.softmax(preds_test)\n",
    "correct_prediction = tf.equal(tf.argmax(preds_test, 1), tf.argmax(y_test, 1))\n",
    "\n",
    "# Calculate accuracy\n",
    "accuracy = tf.reduce_mean(tf.cast(correct_prediction, \"float\"))\n",
    "cur_test_acc = accuracy.numpy()\n",
    "print(f'Test Accuracy: {cur_test_acc}')\n"
   ]
  },
  {
   "cell_type": "code",
   "execution_count": null,
   "metadata": {},
   "outputs": [],
   "source": []
  },
  {
   "cell_type": "code",
   "execution_count": null,
   "metadata": {},
   "outputs": [],
   "source": []
  },
  {
   "cell_type": "code",
   "execution_count": 9,
   "metadata": {
    "colab": {
     "base_uri": "https://localhost:8080/",
     "height": 1000
    },
    "id": "pOnhvVlUCX6-",
    "outputId": "dba83f32-51dc-412a-b36a-4e3a1868d639"
   },
   "outputs": [
    {
     "name": "stdout",
     "output_type": "stream",
     "text": [
      "\n",
      "Train Accuracy: 0.8363\n",
      "Number of Epoch = 1 - Average Cross Entropy:= 0.0052570166015625 \n",
      "\n",
      "Validation Accuracy: 0.8282\n",
      "\n",
      "Train Accuracy: 0.8520\n",
      "Number of Epoch = 2 - Average Cross Entropy:= 0.003552742919921875 \n",
      "\n",
      "Validation Accuracy: 0.8431\n",
      "\n",
      "Train Accuracy: 0.8606\n",
      "Number of Epoch = 3 - Average Cross Entropy:= 0.00315296630859375 \n",
      "\n",
      "Validation Accuracy: 0.8530\n",
      "\n",
      "Train Accuracy: 0.8691\n",
      "Number of Epoch = 4 - Average Cross Entropy:= 0.002902758483886719 \n",
      "\n",
      "Validation Accuracy: 0.8585\n",
      "\n",
      "Train Accuracy: 0.8797\n",
      "Number of Epoch = 5 - Average Cross Entropy:= 0.002755142822265625 \n",
      "\n",
      "Validation Accuracy: 0.8650\n",
      "\n",
      "Train Accuracy: 0.8820\n",
      "Number of Epoch = 6 - Average Cross Entropy:= 0.002608810729980469 \n",
      "\n",
      "Validation Accuracy: 0.8654\n",
      "\n",
      "Train Accuracy: 0.8867\n",
      "Number of Epoch = 7 - Average Cross Entropy:= 0.0025059800720214844 \n",
      "\n",
      "Validation Accuracy: 0.8680\n",
      "\n",
      "Train Accuracy: 0.8894\n",
      "Number of Epoch = 8 - Average Cross Entropy:= 0.002402233123779297 \n",
      "\n",
      "Validation Accuracy: 0.8688\n",
      "\n",
      "Train Accuracy: 0.8960\n",
      "Number of Epoch = 9 - Average Cross Entropy:= 0.0023026089477539064 \n",
      "\n",
      "Validation Accuracy: 0.8752\n",
      "\n",
      "Train Accuracy: 0.8980\n",
      "Number of Epoch = 10 - Average Cross Entropy:= 0.0022254254150390626 \n",
      "\n",
      "Validation Accuracy: 0.8752\n",
      "\n",
      "Total time taken (in seconds): 89.83\n"
     ]
    },
    {
     "data": {
      "image/png": "[encoded data removed]",
      "text/plain": [
       "<Figure size 432x288 with 1 Axes>"
      ]
     },
     "metadata": {
      "needs_background": "light"
     },
     "output_type": "display_data"
    }
   ],
   "source": [
    "# Set number of epochs\n",
    "NUM_EPOCHS = 10\n",
    "\n",
    "# Initialize model using CPU\n",
    "mlp_on_cpu = MLP(size_input, size_hidden1, size_hidden2, size_hidden3, size_output, device='gpu')\n",
    "\n",
    "time_start = time.time()\n",
    "opti = tf.keras.optimizers.SGD(learning_rate = 0.1)\n",
    "for epoch in range(NUM_EPOCHS):\n",
    "    \n",
    "    loss_total = tf.zeros([1,1], dtype=tf.float32)\n",
    "    lt = 0\n",
    "\n",
    "    train_ds = tf.data.Dataset.from_tensor_slices((X_train, y_train)).shuffle(25, seed=epoch*(1234)).batch(128)\n",
    "    kz = 0\n",
    "    accuracy_z = 0.0\n",
    "    cur_train_acc = 0.0\n",
    "    for inputs, outputs in train_ds:\n",
    "        qw, tr = tf.shape(inputs)\n",
    "        kz = kz + 1\n",
    "        preds = mlp_on_cpu.forward(inputs) \n",
    "        loss_total = loss_total + mlp_on_cpu.loss(preds, outputs)\n",
    "        lt = lt + mlp_on_cpu.loss(preds, outputs)\n",
    "        mlp_on_cpu.backward(inputs, outputs, opti)\n",
    "\n",
    "    preds = mlp_on_cpu.forward(X_train)\n",
    "    # Get probs, remember we only have logits from our forward function, we need to apply softmax on top of it to get probs\n",
    "    preds = tf.nn.softmax(preds)\n",
    "    correct_prediction = tf.equal(tf.argmax(preds, 1), tf.argmax(y_train, 1))\n",
    "    accuracy_z = accuracy_z + tf.reduce_mean(tf.cast(correct_prediction, \"float\"))\n",
    "    cur_train_acc += accuracy_z.numpy()\n",
    "    ds = cur_train_acc\n",
    "    print('\\nTrain Accuracy: {:.4f}'.format(ds))\n",
    "    print('Number of Epoch = {} - Average Cross Entropy:= {} '.format(epoch + 1, np.sum(loss_total) / X_train.shape[0]))\n",
    "    preds_val = mlp_on_cpu.forward(X_val)\n",
    "    preds_val = tf.nn.softmax(preds_val)\n",
    "    correct_prediction = tf.equal(tf.argmax(preds_val, 1), tf.argmax(y_val, 1))\n",
    "\n",
    "    # Calculate accuracy\n",
    "    accuracy = tf.reduce_mean(tf.cast(correct_prediction, \"float\"))\n",
    "    cur_val_acc = accuracy.numpy()\n",
    "\n",
    "    print('\\nValidation Accuracy: {:.4f}'.format(cur_val_acc))\n",
    "\n",
    "    plt.plot(epoch + 1, np.sum(loss_total) / X_train.shape[0], 'go')\n",
    "\n",
    "        \n",
    "time_taken = time.time() - time_start\n",
    "    \n",
    "# Validate model\n",
    "    \n",
    "\n",
    "\n",
    "print('\\nTotal time taken (in seconds): {:.2f}'.format(time_taken))\n",
    "#For per epoch_time = Total_Time / Number_of_epochs\n"
   ]
  },
  {
   "cell_type": "markdown",
   "metadata": {
    "id": "2O5EAiXOHQir"
   },
   "source": [
    "# Saving your model weights or parameters\n",
    "* It is always advisable to save your model checkpoints every k epochs. Look at Saver object in tensorflow/keras.\n",
    "* Visualize your model performance using tensorboard.\n",
    "\n",
    "# Steps to save model weights using pickle\n",
    "* Save your model(trainable variables), in our case self.variables into a pickle file.\n",
    "* Load saved file\n",
    "* Redefine model\n",
    "* Load weights\n",
    "* Re-train or test your model\n"
   ]
  },
  {
   "cell_type": "code",
   "execution_count": null,
   "metadata": {
    "id": "-gtwqTXnjW30"
   },
   "outputs": [],
   "source": [
    "#\n",
    "import pickle\n",
    "variables_old = mlp_on_cpu.variables\n",
    "with open('weights.pickle', 'wb') as handle:\n",
    "    pickle.dump(variables_old, handle)"
   ]
  },
  {
   "cell_type": "code",
   "execution_count": null,
   "metadata": {
    "id": "l9Jc34APkghg"
   },
   "outputs": [],
   "source": [
    "with open('weights.pickle', 'rb') as handle:\n",
    "    b = pickle.load(handle)"
   ]
  },
  {
   "cell_type": "code",
   "execution_count": null,
   "metadata": {
    "id": "gXRQs7HWtgVW"
   },
   "outputs": [],
   "source": [
    "# Define class to build mlp model\n",
    "class MLP_check(object):\n",
    " def __init__(self, size_input, size_hidden1, size_hidden2, size_hidden3, size_output, device=None):\n",
    "    \"\"\"\n",
    "    size_input: int, size of input layer\n",
    "    size_hidden1: int, size of the 1st hidden layer\n",
    "    size_hidden2: int, size of the 2nd hidden layer\n",
    "    size_output: int, size of output layer\n",
    "    device: str or None, either 'cpu' or 'gpu' or None. If None, the device to be used will be decided automatically during Eager Execution\n",
    "    \"\"\"\n",
    "    self.size_input, self.size_hidden1, self.size_hidden2, self.size_hidden3, self.size_output, self.device =\\\n",
    "    size_input, size_hidden1, size_hidden2, size_hidden3, size_output, device\n",
    "    \n",
    "    # Initialize weights between input mapping and a layer g(f(x)) = layer\n",
    "    self.W1 = tf.Variable(tf.random.normal([self.size_input, self.size_hidden1],stddev=0.1)) # Xavier(Fan-in fan-out) and Orthogonal\n",
    "    # Initialize biases for hidden layer\n",
    "    self.b1 = tf.Variable(tf.zeros([1, self.size_hidden1])) # 0 or constant(0.01)\n",
    "    \n",
    "    # Initialize weights between input layer and 1st hidden layer\n",
    "    self.W2 = tf.Variable(tf.random.normal([self.size_hidden1, self.size_hidden2],stddev=0.1))\n",
    "    # Initialize biases for hidden layer\n",
    "    self.b2 = tf.Variable(tf.zeros([1, self.size_hidden2]))\n",
    "    \n",
    "    # Initialize weights between 1st hidden layer and 2nd hidden layer\n",
    "    self.W3 = tf.Variable(tf.random.normal([self.size_hidden2, self.size_hidden3],stddev=0.1))\n",
    "    # Initialize biases for hidden layer\n",
    "    self.b3 = tf.Variable(tf.zeros([1, self.size_hidden3]))\n",
    "    \n",
    "     # Initialize weights between 2nd hidden layer and output layer\n",
    "    self.W4 = tf.Variable(tf.random.normal([self.size_hidden3, self.size_output],stddev=0.1))\n",
    "    # Initialize biases for output layer\n",
    "    self.b4 = tf.Variable(tf.zeros([1, self.size_output]))\n",
    "    \n",
    "    # Define variables to be updated during backpropagation\n",
    "    self.variables = [self.W1, self.W2, self.W3, self.W4, self.b1, self.b2, self.b3, self.b4]\n",
    "  \n",
    " def forward(self, X):\n",
    "    \"\"\"\n",
    "    forward pass\n",
    "    X: Tensor, inputs\n",
    "    \"\"\"\n",
    "    if self.device is not None:\n",
    "      with tf.device('gpu:0' if self.device=='gpu' else 'cpu'):\n",
    "        self.y = self.compute_output(X)\n",
    "    else:\n",
    "      self.y = self.compute_output(X)\n",
    "      \n",
    "    return self.y\n",
    "\n",
    " def loss(self, y_pred, y_true):\n",
    "    '''\n",
    "    y_pred - Tensor of shape (batch_size, size_output)\n",
    "    y_true - Tensor of shape (batch_size, size_output)\n",
    "    '''\n",
    "    #y_true_tf = tf.cast(tf.reshape(y_true, (-1, self.size_output)), dtype=tf.float32)\n",
    "    y_true_tf = tf.cast(y_true, dtype=tf.float32)\n",
    "    y_pred_tf = tf.cast(y_pred, dtype=tf.float32)\n",
    "    cce = tf.keras.losses.CategoricalCrossentropy(from_logits=True)\n",
    "    loss_x = cce(y_true_tf, y_pred_tf)\n",
    "    # Use keras or tf_softmax, both should work for any given model\n",
    "    #loss_x = tf.reduce_mean(tf.nn.softmax_cross_entropy_with_logits(logits=y_pred_tf, labels=y_true_tf))\n",
    "    \n",
    "    return loss_x\n",
    "\n",
    " def backward(self, X_train, y_train, opti):\n",
    "    \"\"\"\n",
    "    backward pass\n",
    "    \"\"\"\n",
    "    optimizer = opti\n",
    "    \n",
    "    with tf.GradientTape() as tape:\n",
    "        \n",
    "      predicted = self.forward(X_train)\n",
    "      current_loss = self.loss(predicted, y_train)\n",
    "        \n",
    "    grads = tape.gradient(current_loss, self.variables)\n",
    "    optimizer.apply_gradients(zip(grads, self.variables))\n",
    "           \n",
    " def compute_output(self, X):\n",
    "    \"\"\"\n",
    "    Custom method to obtain output tensor during forward pass\n",
    "    \"\"\"\n",
    "    # Cast X to float32\n",
    "    X_tf = tf.cast(X, dtype=tf.float32)\n",
    "    #X_tf = X\n",
    "    \n",
    "    # Compute values in hidden layers\n",
    "    z1 = tf.matmul(X_tf, self.W1) + self.b1\n",
    "    h1 = tf.nn.relu(z1)\n",
    "    \n",
    "    z2 = tf.matmul(h1, self.W2) + self.b2\n",
    "    h2 = tf.nn.relu(z2)\n",
    "    \n",
    "    z3 = tf.matmul(h2, self.W3) + self.b3\n",
    "    h3 = tf.nn.relu(z3)\n",
    "\n",
    "    # Compute output\n",
    "    output = tf.matmul(h3, self.W4) + self.b4\n",
    "    \n",
    "    #Now consider two things , First look at inbuild loss functions if they work with softmax or not and then change this \n",
    "    # Second add tf.Softmax(output) and then return this variable\n",
    "    return (output)\n",
    "\n"
   ]
  },
  {
   "cell_type": "code",
   "execution_count": null,
   "metadata": {
    "colab": {
     "base_uri": "https://localhost:8080/"
    },
    "id": "Qg3MXT4Stqan",
    "outputId": "15c1e16e-82a0-4e73-ae52-5d3661c0756f"
   },
   "outputs": [
    {
     "name": "stdout",
     "output_type": "stream",
     "text": [
      "<tf.Variable 'Variable:0' shape=(784, 128) dtype=float32, numpy=\n",
      "array([[-0.16473156, -0.08003395, -0.06984133, ...,  0.05928857,\n",
      "         0.08477078, -0.08955226],\n",
      "       [-0.05746964,  0.11165438,  0.07991587, ..., -0.14035715,\n",
      "        -0.08606252,  0.05247764],\n",
      "       [-0.03853896, -0.18610518,  0.16467   , ...,  0.08612005,\n",
      "        -0.08745918,  0.01032779],\n",
      "       ...,\n",
      "       [ 0.10590637,  0.04486223,  0.07102545, ..., -0.1274214 ,\n",
      "         0.18856107, -0.1880648 ],\n",
      "       [-0.12794258, -0.09081408,  0.02673411, ..., -0.05354583,\n",
      "        -0.28470454, -0.04574722],\n",
      "       [-0.06035139, -0.14126025,  0.05768505, ..., -0.0247896 ,\n",
      "        -0.2056571 , -0.14418238]], dtype=float32)>\n"
     ]
    }
   ],
   "source": [
    "MLP_after_check = MLP_check(size_input, size_hidden1, size_hidden2, size_hidden3, size_output, device='gpu')\n",
    "W = MLP_after_check.variables[0]\n",
    "W.assign(b[0])\n",
    "W1 = MLP_after_check.variables[1]\n",
    "W1.assign(b[1])\n",
    "W2 = MLP_after_check.variables[2]\n",
    "W2.assign(b[2])\n",
    "W3 = MLP_after_check.variables[3]\n",
    "W3.assign(b[3])\n",
    "B = MLP_after_check.variables[4]\n",
    "B.assign(b[4])\n",
    "B1 = MLP_after_check.variables[5]\n",
    "B1.assign(b[5])\n",
    "B2 = MLP_after_check.variables[6]\n",
    "B2.assign(b[6])\n",
    "B3 = MLP_after_check.variables[7]\n",
    "B3.assign(b[7])\n"
   ]
  },
  {
   "cell_type": "code",
   "execution_count": null,
   "metadata": {
    "colab": {
     "base_uri": "https://localhost:8080/"
    },
    "id": "8eNKeELWCX6_",
    "outputId": "9a61fa17-e512-4256-f424-1195fbd34658"
   },
   "outputs": [
    {
     "name": "stdout",
     "output_type": "stream",
     "text": [
      "Test loss: 0.0986\n",
      "\n",
      "Test Accuracy: 0.86\n"
     ]
    }
   ],
   "source": [
    "# Initialize\n",
    "test_loss_total = tf.Variable(0, dtype=tf.float32)\n",
    "correct_prediction = tf.Variable(0, dtype=tf.float32)\n",
    "\n",
    "\n",
    "test_ds = tf.data.Dataset.from_tensor_slices((X_test, y_test)).batch(4)\n",
    "\n",
    "\n",
    "#test_loss_total = 0.0\n",
    "for inputs, outputs in test_ds:\n",
    "  preds = mlp_on_cpu.forward(inputs)\n",
    "  test_loss_total = test_loss_total + MLP_after_check.loss(preds, outputs)\n",
    "print('Test loss: {:.4f}'.format(np.sum(test_loss_total.numpy()) / X_test.shape[0]))\n",
    "\n",
    "# Test model\n",
    "preds_test = MLP_after_check.forward(X_test)\n",
    "preds_test = tf.nn.softmax(preds_test)\n",
    "correct_prediction = tf.equal(tf.argmax(preds_test, 1), tf.argmax(y_test, 1))\n",
    "\n",
    "# Calculate accuracy\n",
    "accuracy = tf.reduce_mean(tf.cast(correct_prediction, \"float\"))\n",
    "cur_test_acc = accuracy.numpy()\n",
    "print('\\nTest Accuracy: {:.2f}'.format(cur_test_acc))"
   ]
  },
  {
   "cell_type": "raw",
   "metadata": {
    "id": "5DRomYsUCX6_"
   },
   "source": []
  },
  {
   "cell_type": "code",
   "execution_count": null,
   "metadata": {
    "colab": {
     "base_uri": "https://localhost:8080/"
    },
    "id": "xYsXWqI_CX6_",
    "outputId": "5ac8a5f6-0300-40f3-ab40-742707cc58bb"
   },
   "outputs": [
    {
     "name": "stdout",
     "output_type": "stream",
     "text": [
      "Test loss: 0.0986\n",
      "\n",
      "Test Accuracy: 0.86\n"
     ]
    }
   ],
   "source": [
    "# Initialize\n",
    "test_loss_total = tf.Variable(0, dtype=tf.float32)\n",
    "correct_prediction = tf.Variable(0, dtype=tf.float32)\n",
    "\n",
    "\n",
    "test_ds = tf.data.Dataset.from_tensor_slices((X_test, y_test)).batch(4)\n",
    "\n",
    "\n",
    "#test_loss_total = 0.0\n",
    "for inputs, outputs in test_ds:\n",
    "  preds = mlp_on_cpu.forward(inputs)\n",
    "  test_loss_total = test_loss_total + mlp_on_cpu.loss(preds, outputs)\n",
    "print('Test loss: {:.4f}'.format(np.sum(test_loss_total.numpy()) / X_test.shape[0]))\n",
    "\n",
    "# Test model\n",
    "preds_test = mlp_on_cpu.forward(X_test)\n",
    "preds_test = tf.nn.softmax(preds_test)\n",
    "correct_prediction = tf.equal(tf.argmax(preds_test, 1), tf.argmax(y_test, 1))\n",
    "\n",
    "# Calculate accuracy\n",
    "accuracy = tf.reduce_mean(tf.cast(correct_prediction, \"float\"))\n",
    "cur_test_acc = accuracy.numpy()\n",
    "print('\\nTest Accuracy: {:.2f}'.format(cur_test_acc))"
   ]
  }
 ],
 "metadata": {
  "colab": {
   "collapsed_sections": [],
   "name": "MLP_Fmnist_Saver_optimizer.ipynb",
   "provenance": []
  },
  "kernelspec": {
   "display_name": "Python 3 (ipykernel)",
   "language": "python",
   "name": "python3"
  },
  "language_info": {
   "codemirror_mode": {
    "name": "ipython",
    "version": 3
   },
   "file_extension": ".py",
   "mimetype": "text/x-python",
   "name": "python",
   "nbconvert_exporter": "python",
   "pygments_lexer": "ipython3",
   "version": "3.9.6"
  }
 },
 "nbformat": 4,
 "nbformat_minor": 1
}
